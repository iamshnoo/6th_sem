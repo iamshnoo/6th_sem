{
 "nbformat": 4,
 "nbformat_minor": 2,
 "metadata": {
  "language_info": {
   "name": "python",
   "codemirror_mode": {
    "name": "ipython",
    "version": 3
   },
   "version": "3.7.4-final"
  },
  "orig_nbformat": 2,
  "file_extension": ".py",
  "mimetype": "text/x-python",
  "name": "python",
  "npconvert_exporter": "python",
  "pygments_lexer": "ipython3",
  "version": 3,
  "kernelspec": {
   "name": "python37464bitdataminingconda4c52f3d653114c4295af390bce280be0",
   "display_name": "Python 3.7.4 64-bit ('dataMining': conda)"
  }
 },
 "cells": [
  {
   "cell_type": "code",
   "execution_count": 1,
   "metadata": {},
   "outputs": [],
   "source": [
    "import numpy as np"
   ]
  },
  {
   "cell_type": "code",
   "execution_count": 2,
   "metadata": {},
   "outputs": [],
   "source": [
    "'''\n",
    "    try:\n",
    "        data = load_data()\n",
    "    except IOError:\n",
    "        print \"Missing dataset! Run:\"\n",
    "        print \"wget http://archive.ics.uci.edu/ml/machine-learning-databases/iris/iris.data\"\n",
    "        sys.exit(1)\n",
    "'''\n",
    "\n",
    "data = np.genfromtxt('iris.csv', delimiter=',')"
   ]
  },
  {
   "cell_type": "code",
   "execution_count": 3,
   "metadata": {},
   "outputs": [],
   "source": [
    "low = np.amin(data, axis=0)"
   ]
  },
  {
   "cell_type": "code",
   "execution_count": 4,
   "metadata": {},
   "outputs": [],
   "source": [
    "high = np.amax(data, axis=0)"
   ]
  },
  {
   "cell_type": "code",
   "execution_count": 5,
   "metadata": {},
   "outputs": [],
   "source": [
    "for j in range(4):\n",
    "    minimum = low[j]\n",
    "    maximum = high[j]\n",
    "    for i in range(150):\n",
    "        data[i][j] = (data[i][j] - minimum)/(maximum - minimum)"
   ]
  },
  {
   "cell_type": "code",
   "execution_count": 6,
   "metadata": {},
   "outputs": [],
   "source": [
    "m = 150\n",
    "mat = np.zeros(shape=(m, m))\n",
    "for i in range(m):\n",
    "    for j in range(m):\n",
    "        mat[i, j] = ((data[i][0] - data[j][0])**2 + (data[i][1] - data[j][1]\n",
    "                                                        )**2 + (data[i][2] - data[j][2])**2 + (data[i][3] - data[j][3])**2)\n",
    "        mat[i, j] = mat[i, j]**0.5"
   ]
  },
  {
   "cell_type": "code",
   "execution_count": 7,
   "metadata": {},
   "outputs": [],
   "source": [
    "avg = np.zeros(shape=(m))\n",
    "for i in range(m):\n",
    "    for j in range(m):\n",
    "        avg[i] += mat[i][j]\n",
    "    avg[i] = avg[i] / m"
   ]
  },
  {
   "cell_type": "code",
   "execution_count": 8,
   "metadata": {},
   "outputs": [],
   "source": [
    "clusters = []\n",
    "for i in range(m):\n",
    "    cluster = []\n",
    "    for j in range(m):\n",
    "        if(mat[i][j] < avg[j]):\n",
    "            cluster.append(j)\n",
    "    clusters.append(cluster)\n",
    "cluster_original = clusters"
   ]
  },
  {
   "cell_type": "code",
   "execution_count": 9,
   "metadata": {},
   "outputs": [
    {
     "name": "stdout",
     "output_type": "stream",
     "text": "150\n[0, 1, 2, 3, 4, 5, 6, 7, 8, 9, 10, 11, 12, 13, 14, 15, 16, 17, 18, 19, 20, 21, 22, 23, 24, 25, 26, 27, 28, 29, 30, 31, 32, 33, 34, 35, 36, 37, 38, 39, 40, 41, 42, 43, 44, 45, 46, 47, 48, 49]\n[0, 1, 2, 3, 4, 5, 6, 7, 8, 9, 10, 11, 12, 13, 14, 15, 16, 17, 18, 19, 20, 21, 22, 23, 24, 25, 26, 27, 28, 29, 30, 31, 32, 33, 34, 35, 36, 37, 38, 39, 40, 41, 42, 43, 44, 45, 46, 47, 48, 49, 57, 60, 93, 98]\n[0, 1, 2, 3, 4, 5, 6, 7, 8, 9, 10, 11, 12, 13, 14, 15, 16, 17, 18, 19, 20, 21, 22, 23, 24, 25, 26, 27, 28, 29, 30, 31, 32, 33, 34, 35, 36, 37, 38, 39, 40, 41, 42, 43, 44, 45, 46, 47, 48, 49, 57, 93, 98]\n"
    }
   ],
   "source": [
    "print(len(clusters))\n",
    "print(clusters[0])\n",
    "print(clusters[1])\n",
    "print(clusters[2])"
   ]
  },
  {
   "cell_type": "code",
   "execution_count": 20,
   "metadata": {},
   "outputs": [
    {
     "name": "stdout",
     "output_type": "stream",
     "text": "(150,)\n"
    }
   ],
   "source": [
    "clusters = np.asarray(clusters)\n",
    "print(clusters.shape)"
   ]
  },
  {
   "cell_type": "code",
   "execution_count": 21,
   "metadata": {},
   "outputs": [
    {
     "name": "stdout",
     "output_type": "stream",
     "text": "0\n"
    }
   ],
   "source": [
    "'''\n",
    "Remove the clusters (if any) which are subset of some other clusters. As a result you have now say,\n",
    "p (<m) clusters.\n",
    "'''\n",
    "\n",
    "\n",
    "\n",
    "\n",
    "\n",
    "idx = []\n",
    "for i in range(m):\n",
    "    for j in range(m):\n",
    "        if(i!=j):\n",
    "            if(len(np.setdiff1d(clusters[i],clusters[j])) == 0):\n",
    "                \n",
    "                idx.append(i)\n",
    "\n",
    "idx = np.unique(idx)\n",
    "#print(idx)\n",
    "clusters = np.delete(clusters,idx,0)\n",
    "print(len(clusters)) # 5"
   ]
  },
  {
   "cell_type": "code",
   "execution_count": 13,
   "metadata": {},
   "outputs": [
    {
     "name": "stdout",
     "output_type": "stream",
     "text": "[[1.         0.37       0.85393258 0.73195876 0.16190476 0.2       ]\n [0.37       1.         0.4        0.34375    0.         0.        ]\n [0.85393258 0.4        1.         0.63541667 0.0990099  0.13861386]\n [0.73195876 0.34375    0.63541667 1.         0.21276596 0.2688172 ]\n [0.16190476 0.         0.0990099  0.21276596 1.         0.8       ]\n [0.2        0.         0.13861386 0.2688172  0.8        1.        ]]\n"
    }
   ],
   "source": [
    "'''\n",
    "Create a similarity matrix C of size pXp where, each (i, j)-th entry in the matrix gives the similarity\n",
    "measurement between i-th cluster Ci and j-th cluster Cj using following similarity measure.\n",
    "Cij =|Ci ∩ Cj|/|Ci ∪ Cj|\n",
    "'''\n",
    "p = len(clusters)\n",
    "sim = np.zeros(shape=(p, p))\n",
    "for i in range(p):\n",
    "    for j in range(p):\n",
    "        sim[i, j] = len(np.intersect1d(clusters[i], clusters[j])\n",
    "                        ) / len(np.union1d(clusters[i], clusters[j]))\n",
    "print(sim)"
   ]
  },
  {
   "cell_type": "code",
   "execution_count": 12,
   "metadata": {},
   "outputs": [
    {
     "name": "stdout",
     "output_type": "stream",
     "text": "0.8\n3\n4\n"
    }
   ],
   "source": [
    "'''\n",
    "Out of all p*p entries in matrix C, find out the maximum value. If multiple maximum values occur,\n",
    "choose any one randomly. Let, Ckl is the maximum value selected, that implies clusters Ck and Cl are\n",
    "the most similar clusters among all p clusters. Merge these two clusters Ck and Cl to get a new cluster\n",
    "Ckl, i.e. Ckl = Ck U Cl.\n",
    "'''\n",
    "val = 0\n",
    "idx_k = 0\n",
    "idx_l = 0\n",
    "for i in range(p):\n",
    "    for j in range(p):\n",
    "        if(i != j):\n",
    "            if(sim[i, j] > val):\n",
    "                val = sim[i, j]\n",
    "                idx_k = i\n",
    "                idx_l = j\n",
    "print(val)\n",
    "print(idx_k)\n",
    "print(idx_l)"
   ]
  },
  {
   "cell_type": "code",
   "execution_count": 13,
   "metadata": {},
   "outputs": [
    {
     "name": "stdout",
     "output_type": "stream",
     "text": "[50, 52, 100, 102, 104, 105, 107, 109, 110, 112, 115, 116, 117, 118, 120, 122, 124, 125, 128, 129, 130, 131, 132, 135, 136, 137, 139, 140, 141, 143, 144, 145, 147, 148]\n"
    }
   ],
   "source": [
    "print(clusters[idx_k])"
   ]
  },
  {
   "cell_type": "code",
   "execution_count": 14,
   "metadata": {},
   "outputs": [
    {
     "name": "stdout",
     "output_type": "stream",
     "text": "[77, 100, 102, 103, 104, 105, 107, 108, 109, 110, 111, 112, 114, 115, 116, 117, 118, 120, 122, 124, 125, 128, 129, 130, 131, 132, 135, 136, 137, 139, 140, 141, 143, 144, 145, 146, 147, 148]\n"
    }
   ],
   "source": [
    "print(clusters[idx_l])"
   ]
  },
  {
   "cell_type": "code",
   "execution_count": 15,
   "metadata": {},
   "outputs": [
    {
     "name": "stdout",
     "output_type": "stream",
     "text": "[ 50  52  77 100 102 103 104 105 107 108 109 110 111 112 114 115 116 117\n 118 120 122 124 125 128 129 130 131 132 135 136 137 139 140 141 143 144\n 145 146 147 148]\n\nlen : 40\n"
    }
   ],
   "source": [
    "merged_clusters = np.union1d(clusters[idx_k], clusters[idx_l])\n",
    "print(merged_clusters)\n",
    "print(\"\\nlen : \" + str(len(merged_clusters)))"
   ]
  },
  {
   "cell_type": "code",
   "execution_count": 16,
   "metadata": {},
   "outputs": [
    {
     "name": "stdout",
     "output_type": "stream",
     "text": "\nlen : 3\n"
    }
   ],
   "source": [
    "ids = [idx_k, idx_l]\n",
    "clusters = np.delete(clusters,ids,0)\n",
    "print(\"\\nlen : \" + str(len(clusters)))"
   ]
  },
  {
   "cell_type": "code",
   "execution_count": 17,
   "metadata": {},
   "outputs": [
    {
     "name": "stdout",
     "output_type": "stream",
     "text": "[list([1, 2, 3, 8, 9, 12, 13, 25, 29, 30, 34, 35, 37, 38, 41, 42, 45, 47, 53, 55, 57, 59, 60, 62, 64, 67, 68, 69, 71, 72, 79, 80, 81, 82, 84, 87, 88, 89, 90, 92, 93, 94, 95, 96, 98, 99, 106, 113, 119, 134])\n list([8, 25, 41, 50, 51, 52, 53, 54, 55, 57, 58, 59, 60, 61, 62, 63, 64, 65, 66, 67, 68, 69, 71, 72, 73, 74, 75, 76, 77, 78, 79, 80, 81, 82, 83, 84, 86, 87, 88, 89, 90, 91, 92, 93, 94, 95, 96, 97, 98, 99, 101, 103, 106, 107, 108, 111, 113, 114, 116, 118, 119, 121, 122, 123, 126, 127, 128, 129, 130, 132, 133, 134, 138, 142, 146, 149])\n list([41, 53, 54, 55, 56, 57, 59, 60, 61, 62, 63, 64, 66, 67, 68, 69, 70, 71, 72, 73, 74, 78, 79, 80, 81, 82, 83, 84, 85, 87, 88, 89, 90, 91, 92, 93, 94, 95, 96, 97, 98, 99, 100, 101, 103, 104, 106, 108, 110, 111, 112, 113, 114, 115, 116, 118, 119, 120, 121, 123, 124, 126, 127, 128, 132, 133, 134, 136, 137, 138, 140, 141, 142, 143, 144, 145, 146, 147, 148, 149])\n 50 52 77 100 102 103 104 105 107 108 109 110 111 112 114 115 116 117 118\n 120 122 124 125 128 129 130 131 132 135 136 137 139 140 141 143 144 145\n 146 147 148]\n\nlen : 43\n"
    }
   ],
   "source": [
    "x = np.concatenate((clusters, merged_clusters)) #np.concatenate, np.vstack are the two possible options\n",
    "print(x)\n",
    "print(\"\\nlen : \" + str(len(x)))"
   ]
  },
  {
   "cell_type": "code",
   "execution_count": 18,
   "metadata": {},
   "outputs": [
    {
     "name": "stdout",
     "output_type": "stream",
     "text": "4\n3\n4\n50 76 80 40\n"
    }
   ],
   "source": [
    "dummy = [[] for _ in range(len(clusters))]\n",
    "for i in range(len(clusters)):\n",
    "    for j in range(len(clusters[i])):\n",
    "        dummy[i].append(clusters[i][j])\n",
    "dummy.append(merged_clusters)\n",
    "print(len(dummy))\n",
    "print(len(clusters))\n",
    "clusters = dummy\n",
    "print(len(clusters))\n",
    "print(len(clusters[0]), len(clusters[1]), len(clusters[2]), len(clusters[3]))"
   ]
  },
  {
   "cell_type": "code",
   "execution_count": 19,
   "metadata": {},
   "outputs": [
    {
     "name": "stdout",
     "output_type": "stream",
     "text": "[[1, 2, 3], [4, 5, 6], [0, 0, 0], [0, 0, 0], [7, 8, 9]]\n[[1 2 3]\n [4 5 6]\n [7 8 9]]\n"
    }
   ],
   "source": [
    "## METHOD 1: WILL ONLY WORK FOR SQUARE ARRAY r\n",
    "\n",
    "r = [[1,2,3],[4,5,6],[1,2,3],[1,2,3],[7,8,9]]\n",
    "\n",
    "for i in range(5):\n",
    "    for j in range(5):\n",
    "        if(i!=j):\n",
    "            if(len(np.setdiff1d(r[i],r[j])) == 0):\n",
    "                for k in range(3):\n",
    "                    r[j][k] = 0\n",
    "\n",
    "print(r)\n",
    "r = np.asarray(r)\n",
    "data = np.delete(r,np.where(~r.any(axis=1))[0], axis=0)\n",
    "print(data)"
   ]
  },
  {
   "cell_type": "code",
   "execution_count": 20,
   "metadata": {},
   "outputs": [
    {
     "name": "stdout",
     "output_type": "stream",
     "text": "[2, 3]\n[[1, 2, 3], [4, 5, 6], [0, 0, 0], [0, 0, 0], [7, 8, 9]]\n[[1 2 3]\n [4 5 6]\n [7 8 9]]\n"
    }
   ],
   "source": [
    "## METHOD 2 : WORKS FOR ANY ARRAY\n",
    "\n",
    "r = [[1,2,3],\n",
    "     [4,5,6],\n",
    "     [1,2,3],\n",
    "     [1,2,3],\n",
    "     [7,8,9]]\n",
    "\n",
    "for i in range(5):\n",
    "    for j in range(5):\n",
    "        if(i!=j):\n",
    "            if(len(np.setdiff1d(r[i],r[j])) == 0):\n",
    "                for k in range(len(r[j])):\n",
    "                    r[j][k] = 0\n",
    "idx = []\n",
    "for i in range(5):\n",
    "    count = 0\n",
    "    for j in range(3):\n",
    "        if r[i][j]==0:\n",
    "            count+=1\n",
    "    if count == 3:\n",
    "        idx.append(i)\n",
    "\n",
    "print(idx)\n",
    "print(r)\n",
    "r = np.asarray(r)\n",
    "r_new = np.delete(r,idx,0)\n",
    "print(r_new)\n",
    "\n",
    "#data = np.delete(r,np.where(~r.any(axis=1))[0], axis=0)"
   ]
  },
  {
   "cell_type": "code",
   "execution_count": 21,
   "metadata": {},
   "outputs": [
    {
     "name": "stdout",
     "output_type": "stream",
     "text": "[2 3]\n[[1, 2, 3], [4, 5, 6], [0, 0, 0], [0, 0, 0], [7, 8, 9]]\n[[1 2 3]\n [4 5 6]\n [7 8 9]]\n"
    }
   ],
   "source": [
    "# METHOD 3 : OPTIMIZED VERSION OF PREVIOUS METHOD\n",
    "\n",
    "r = [[1,2,3],\n",
    "     [4,5,6],\n",
    "     [1,2,3],\n",
    "     [1,2,3],\n",
    "     [7,8,9]]\n",
    "\n",
    "idx = []\n",
    "for i in range(5):\n",
    "    for j in range(5):\n",
    "        if(i!=j):\n",
    "            if(len(np.setdiff1d(r[i],r[j])) == 0):\n",
    "                for k in range(len(r[j])):\n",
    "                    r[j][k] = 0\n",
    "                idx.append(j)\n",
    "idx = np.unique(idx)\n",
    "print(idx)\n",
    "print(r)\n",
    "r = np.asarray(r)\n",
    "r_new = np.delete(r,idx,0)\n",
    "print(r_new)\n"
   ]
  },
  {
   "cell_type": "code",
   "execution_count": 22,
   "metadata": {},
   "outputs": [],
   "source": [
    "def issubset(a,b):\n",
    "    return (len(np.setdiff1d(a,b)) == 0)\n",
    "# if this returns true, then b is a subset of a or b itself is a(proper subset)\n",
    "# in that case, remove b from clusters and keep a"
   ]
  },
  {
   "cell_type": "code",
   "execution_count": 23,
   "metadata": {},
   "outputs": [
    {
     "name": "stdout",
     "output_type": "stream",
     "text": "[1. 2. 3.]\n"
    }
   ],
   "source": [
    "a = [1,2,3]\n",
    "b = [4,5,6]\n",
    "c = [7,8,9]\n",
    "d = []\n",
    "d = np.concatenate((d,a))\n",
    "print(d)"
   ]
  },
  {
   "cell_type": "code",
   "execution_count": 24,
   "metadata": {},
   "outputs": [
    {
     "name": "stdout",
     "output_type": "stream",
     "text": "[[1, 2, 3], [4, 5, 6], [1, 2, 3], [1, 2, 3], [7, 8, 9], [10, 11, 12]]\n[[1, 2, 3], [4, 5, 6], [1, 2, 3], [1, 2, 3], [7, 8, 9]]\n[[1, 2, 3], [4, 5, 6], [1, 2, 3], [1, 2, 3], [7, 8, 9], [10, 11, 12]]\n"
    }
   ],
   "source": [
    "r = [[1,2,3],\n",
    "     [4,5,6],\n",
    "     [1,2,3],\n",
    "     [1,2,3],\n",
    "     [7,8,9]]\n",
    "\n",
    "b = [10,11,12]\n",
    "new = [[] for _ in range(5)]\n",
    "for i in range(5):\n",
    "    for j in range(3):\n",
    "        new[i].append(r[i][j])\n",
    "new.append(b)\n",
    "print(new)\n",
    "print(r)\n",
    "r = new\n",
    "print(r)"
   ]
  },
  {
   "cell_type": "code",
   "metadata": {},
   "outputs": [],
   "source": []
  }
 ]
}